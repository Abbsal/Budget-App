{
 "cells": [
  {
   "cell_type": "code",
   "execution_count": 1,
   "id": "9772a00c",
   "metadata": {},
   "outputs": [
   "source": [
    "# This is the code for building a budget app using Object oriented programming.\n",
    "\n",
    "class Category:\n",
    "    def __init__(self, name):\n",
    "        self.name = name\n",
    "        self.ledger = []\n",
    "\n",
    "    def __str__(self):\n",
    "        title = f\"{self.name.center(30, '*')}\\n\"\n",
    "        items = \"\"\n",
    "        total = 0\n",
    "        for transaction in self.ledger:\n",
    "            description = transaction[\"description\"][:23].ljust(23)\n",
    "            amount = format(transaction[\"amount\"], \".2f\").rjust(7)\n",
    "            items += f\"{description}{amount}\\n\"\n",
    "            total += transaction[\"amount\"]\n",
    "        output = title + items + \"Total: \" + str(total)\n",
    "        return output\n",
    "\n",
    "    def deposit(self, amount, description=\"\"):\n",
    "        self.ledger.append({\"amount\": amount, \"description\": description})\n",
    "\n",
    "    def withdraw(self, amount, description=\"\"):\n",
    "        if self.check_funds(amount):\n",
    "            self.ledger.append({\"amount\": -amount, \"description\": description})\n",
    "            return True\n",
    "        return False\n",
    "\n",
    "    def get_balance(self):\n",
    "        balance = 0\n",
    "        for transaction in self.ledger:\n",
    "            balance += transaction[\"amount\"]\n",
    "        return balance\n",
    "\n",
    "    def transfer(self, amount, category):\n",
    "        if self.check_funds(amount):\n",
    "            self.withdraw(amount, f\"Transfer to {category.name}\")\n",
    "            category.deposit(amount, f\"Transfer from {self.name}\")\n",
    "            return True\n",
    "        return False\n",
    "\n",
    "    def check_funds(self, amount):\n",
    "        return amount <= self.get_balance()\n",
    "\n",
    "food_category = Category(\"Food\")\n",
    "clothing_category = Category(\"Clothing\")\n",
    "entertainment_category = Category(\"Entertainment\")\n",
    "\n",
    "food = budget.Category(\"Food\")\n",
    "food.deposit(1000, \"initial deposit\")\n",
    "food.withdraw(10.15, \"groceries\")\n",
    "food.withdraw(15.89, \"restaurant and more food for dessert\")\n",
    "print(food.get_balance())\n",
    "clothing = budget.Category(\"Clothing\")\n",
    "food.transfer(50, clothing)\n",
    "clothing.withdraw(25.55)\n",
    "clothing.withdraw(100)\n",
    "auto = budget.Category(\"Auto\")\n",
    "auto.deposit(1000, \"initial deposit\")\n",
    "auto.withdraw(15)\n",
    "\n",
    "print(food)\n",
    "print(clothing)"
   ]
  },
  {
   "cell_type": "code",
   "execution_count": 2,
   "id": "fb25ed21",
   "metadata": {},
   "outputs": [
    {
     "name": "stdout",
     "output_type": "stream",
     "text": [
      "*************Food*************\n",
      "Initial deposit        6000.00\n",
      "Groceries              -500.00\n",
      "Transfer to Entertainme-500.00\n",
      "Total: 5000\n",
      "***********Clothing***********\n",
      "Initial deposit        2000.00\n",
      "Total: 2000\n",
      "********Entertainment*********\n",
      "Transfer from Food      500.00\n",
      "By papa                4000.00\n",
      "Total: 4500\n"
     ]
    }
   ],
   "source": [
    "food_category.deposit(6000, \"Initial deposit\")\n",
    "food_category.withdraw(500, \"Groceries\")\n",
    "food_category.transfer(500, entertainment_category)\n",
    "\n",
    "clothing_category.deposit(2000, \"Initial deposit\")\n",
    "entertainment_category.deposit(4000, \"By papa\")\n",
    "\n",
    "print(food_category)\n",
    "print(clothing_category)\n",
    "print(entertainment_category)\n"
   ]
  },
  {
   "cell_type": "code",
   "execution_count": 3,
   "id": "7f0e7521",
   "metadata": {},
   "outputs": [
   
   ],
   "source": [
    "food = budget.Category(\"Food\")\n",
    "food.deposit(1000, \"initial deposit\")\n",
    "food.withdraw(10.15, \"groceries\")\n",
    "food.withdraw(15.89, \"restaurant and more food for dessert\")\n",
    "print(food.get_balance())\n",
    "clothing = budget.Category(\"Clothing\")\n",
    "food.transfer(50, clothing)\n",
    "clothing.withdraw(25.55)\n",
    "clothing.withdraw(100)\n",
    "auto = budget.Category(\"Auto\")\n",
    "auto.deposit(1000, \"initial deposit\")\n",
    "auto.withdraw(15)\n",
    "\n",
    "print(food)\n",
    "print(clothing)"
   ]
  },
  {
   "cell_type": "code",
   "execution_count": null,
   "id": "8472eefe",
   "metadata": {},
   "outputs": [],
   "source": []
  }
 ],
 "metadata": {
  "kernelspec": {
   "display_name": "Python 3 (ipykernel)",
   "language": "python",
   "name": "python3"
  },
  "language_info": {
   "codemirror_mode": {
    "name": "ipython",
    "version": 3
   },
   "file_extension": ".py",
   "mimetype": "text/x-python",
   "name": "python",
   "nbconvert_exporter": "python",
   "pygments_lexer": "ipython3",
   "version": "3.9.7"
  }
 },
 "nbformat": 4,
 "nbformat_minor": 5
}
