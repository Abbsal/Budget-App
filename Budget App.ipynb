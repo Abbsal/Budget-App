{
 "cells": [
  {
   "cell_type": "code",
   "execution_count": 1,
   "id": "9772a00c",
   "metadata": {},
   "outputs": [
    {
     "ename": "NameError",
     "evalue": "name 'budget' is not defined",
     "output_type": "error",
     "traceback": [
      "\u001b[1;31m---------------------------------------------------------------------------\u001b[0m",
      "\u001b[1;31mNameError\u001b[0m                                 Traceback (most recent call last)",
      "\u001b[1;32m~\\AppData\\Local\\Temp/ipykernel_22132/2840313057.py\u001b[0m in \u001b[0;36m<module>\u001b[1;34m\u001b[0m\n\u001b[0;32m     47\u001b[0m \u001b[0mentertainment_category\u001b[0m \u001b[1;33m=\u001b[0m \u001b[0mCategory\u001b[0m\u001b[1;33m(\u001b[0m\u001b[1;34m\"Entertainment\"\u001b[0m\u001b[1;33m)\u001b[0m\u001b[1;33m\u001b[0m\u001b[1;33m\u001b[0m\u001b[0m\n\u001b[0;32m     48\u001b[0m \u001b[1;33m\u001b[0m\u001b[0m\n\u001b[1;32m---> 49\u001b[1;33m \u001b[0mfood\u001b[0m \u001b[1;33m=\u001b[0m \u001b[0mbudget\u001b[0m\u001b[1;33m.\u001b[0m\u001b[0mCategory\u001b[0m\u001b[1;33m(\u001b[0m\u001b[1;34m\"Food\"\u001b[0m\u001b[1;33m)\u001b[0m\u001b[1;33m\u001b[0m\u001b[1;33m\u001b[0m\u001b[0m\n\u001b[0m\u001b[0;32m     50\u001b[0m \u001b[0mfood\u001b[0m\u001b[1;33m.\u001b[0m\u001b[0mdeposit\u001b[0m\u001b[1;33m(\u001b[0m\u001b[1;36m1000\u001b[0m\u001b[1;33m,\u001b[0m \u001b[1;34m\"initial deposit\"\u001b[0m\u001b[1;33m)\u001b[0m\u001b[1;33m\u001b[0m\u001b[1;33m\u001b[0m\u001b[0m\n\u001b[0;32m     51\u001b[0m \u001b[0mfood\u001b[0m\u001b[1;33m.\u001b[0m\u001b[0mwithdraw\u001b[0m\u001b[1;33m(\u001b[0m\u001b[1;36m10.15\u001b[0m\u001b[1;33m,\u001b[0m \u001b[1;34m\"groceries\"\u001b[0m\u001b[1;33m)\u001b[0m\u001b[1;33m\u001b[0m\u001b[1;33m\u001b[0m\u001b[0m\n",
      "\u001b[1;31mNameError\u001b[0m: name 'budget' is not defined"
     ]
    }
   ],
   "source": [
    "# This is the code for building a budget app using Object oriented programming.\n",
    "\n",
    "class Category:\n",
    "    def __init__(self, name):\n",
    "        self.name = name\n",
    "        self.ledger = []\n",
    "\n",
    "    def __str__(self):\n",
    "        title = f\"{self.name.center(30, '*')}\\n\"\n",
    "        items = \"\"\n",
    "        total = 0\n",
    "        for transaction in self.ledger:\n",
    "            description = transaction[\"description\"][:23].ljust(23)\n",
    "            amount = format(transaction[\"amount\"], \".2f\").rjust(7)\n",
    "            items += f\"{description}{amount}\\n\"\n",
    "            total += transaction[\"amount\"]\n",
    "        output = title + items + \"Total: \" + str(total)\n",
    "        return output\n",
    "\n",
    "    def deposit(self, amount, description=\"\"):\n",
    "        self.ledger.append({\"amount\": amount, \"description\": description})\n",
    "\n",
    "    def withdraw(self, amount, description=\"\"):\n",
    "        if self.check_funds(amount):\n",
    "            self.ledger.append({\"amount\": -amount, \"description\": description})\n",
    "            return True\n",
    "        return False\n",
    "\n",
    "    def get_balance(self):\n",
    "        balance = 0\n",
    "        for transaction in self.ledger:\n",
    "            balance += transaction[\"amount\"]\n",
    "        return balance\n",
    "\n",
    "    def transfer(self, amount, category):\n",
    "        if self.check_funds(amount):\n",
    "            self.withdraw(amount, f\"Transfer to {category.name}\")\n",
    "            category.deposit(amount, f\"Transfer from {self.name}\")\n",
    "            return True\n",
    "        return False\n",
    "\n",
    "    def check_funds(self, amount):\n",
    "        return amount <= self.get_balance()\n",
    "\n",
    "food_category = Category(\"Food\")\n",
    "clothing_category = Category(\"Clothing\")\n",
    "entertainment_category = Category(\"Entertainment\")\n",
    "\n",
    "food = budget.Category(\"Food\")\n",
    "food.deposit(1000, \"initial deposit\")\n",
    "food.withdraw(10.15, \"groceries\")\n",
    "food.withdraw(15.89, \"restaurant and more food for dessert\")\n",
    "print(food.get_balance())\n",
    "clothing = budget.Category(\"Clothing\")\n",
    "food.transfer(50, clothing)\n",
    "clothing.withdraw(25.55)\n",
    "clothing.withdraw(100)\n",
    "auto = budget.Category(\"Auto\")\n",
    "auto.deposit(1000, \"initial deposit\")\n",
    "auto.withdraw(15)\n",
    "\n",
    "print(food)\n",
    "print(clothing)"
   ]
  },
  {
   "cell_type": "code",
   "execution_count": 2,
   "id": "fb25ed21",
   "metadata": {},
   "outputs": [
    {
     "name": "stdout",
     "output_type": "stream",
     "text": [
      "*************Food*************\n",
      "Initial deposit        6000.00\n",
      "Groceries              -500.00\n",
      "Transfer to Entertainme-500.00\n",
      "Total: 5000\n",
      "***********Clothing***********\n",
      "Initial deposit        2000.00\n",
      "Total: 2000\n",
      "********Entertainment*********\n",
      "Transfer from Food      500.00\n",
      "By papa                4000.00\n",
      "Total: 4500\n"
     ]
    }
   ],
   "source": [
    "food_category.deposit(6000, \"Initial deposit\")\n",
    "food_category.withdraw(500, \"Groceries\")\n",
    "food_category.transfer(500, entertainment_category)\n",
    "\n",
    "clothing_category.deposit(2000, \"Initial deposit\")\n",
    "entertainment_category.deposit(4000, \"By papa\")\n",
    "\n",
    "print(food_category)\n",
    "print(clothing_category)\n",
    "print(entertainment_category)\n"
   ]
  },
  {
   "cell_type": "code",
   "execution_count": 3,
   "id": "7f0e7521",
   "metadata": {},
   "outputs": [
    {
     "ename": "NameError",
     "evalue": "name 'budget' is not defined",
     "output_type": "error",
     "traceback": [
      "\u001b[1;31m---------------------------------------------------------------------------\u001b[0m",
      "\u001b[1;31mNameError\u001b[0m                                 Traceback (most recent call last)",
      "\u001b[1;32m~\\AppData\\Local\\Temp/ipykernel_22132/1828201139.py\u001b[0m in \u001b[0;36m<module>\u001b[1;34m\u001b[0m\n\u001b[1;32m----> 1\u001b[1;33m \u001b[0mfood\u001b[0m \u001b[1;33m=\u001b[0m \u001b[0mbudget\u001b[0m\u001b[1;33m.\u001b[0m\u001b[0mCategory\u001b[0m\u001b[1;33m(\u001b[0m\u001b[1;34m\"Food\"\u001b[0m\u001b[1;33m)\u001b[0m\u001b[1;33m\u001b[0m\u001b[1;33m\u001b[0m\u001b[0m\n\u001b[0m\u001b[0;32m      2\u001b[0m \u001b[0mfood\u001b[0m\u001b[1;33m.\u001b[0m\u001b[0mdeposit\u001b[0m\u001b[1;33m(\u001b[0m\u001b[1;36m1000\u001b[0m\u001b[1;33m,\u001b[0m \u001b[1;34m\"initial deposit\"\u001b[0m\u001b[1;33m)\u001b[0m\u001b[1;33m\u001b[0m\u001b[1;33m\u001b[0m\u001b[0m\n\u001b[0;32m      3\u001b[0m \u001b[0mfood\u001b[0m\u001b[1;33m.\u001b[0m\u001b[0mwithdraw\u001b[0m\u001b[1;33m(\u001b[0m\u001b[1;36m10.15\u001b[0m\u001b[1;33m,\u001b[0m \u001b[1;34m\"groceries\"\u001b[0m\u001b[1;33m)\u001b[0m\u001b[1;33m\u001b[0m\u001b[1;33m\u001b[0m\u001b[0m\n\u001b[0;32m      4\u001b[0m \u001b[0mfood\u001b[0m\u001b[1;33m.\u001b[0m\u001b[0mwithdraw\u001b[0m\u001b[1;33m(\u001b[0m\u001b[1;36m15.89\u001b[0m\u001b[1;33m,\u001b[0m \u001b[1;34m\"restaurant and more food for dessert\"\u001b[0m\u001b[1;33m)\u001b[0m\u001b[1;33m\u001b[0m\u001b[1;33m\u001b[0m\u001b[0m\n\u001b[0;32m      5\u001b[0m \u001b[0mprint\u001b[0m\u001b[1;33m(\u001b[0m\u001b[0mfood\u001b[0m\u001b[1;33m.\u001b[0m\u001b[0mget_balance\u001b[0m\u001b[1;33m(\u001b[0m\u001b[1;33m)\u001b[0m\u001b[1;33m)\u001b[0m\u001b[1;33m\u001b[0m\u001b[1;33m\u001b[0m\u001b[0m\n",
      "\u001b[1;31mNameError\u001b[0m: name 'budget' is not defined"
     ]
    }
   ],
   "source": [
    "food = budget.Category(\"Food\")\n",
    "food.deposit(1000, \"initial deposit\")\n",
    "food.withdraw(10.15, \"groceries\")\n",
    "food.withdraw(15.89, \"restaurant and more food for dessert\")\n",
    "print(food.get_balance())\n",
    "clothing = budget.Category(\"Clothing\")\n",
    "food.transfer(50, clothing)\n",
    "clothing.withdraw(25.55)\n",
    "clothing.withdraw(100)\n",
    "auto = budget.Category(\"Auto\")\n",
    "auto.deposit(1000, \"initial deposit\")\n",
    "auto.withdraw(15)\n",
    "\n",
    "print(food)\n",
    "print(clothing)"
   ]
  },
  {
   "cell_type": "code",
   "execution_count": null,
   "id": "8472eefe",
   "metadata": {},
   "outputs": [],
   "source": []
  }
 ],
 "metadata": {
  "kernelspec": {
   "display_name": "Python 3 (ipykernel)",
   "language": "python",
   "name": "python3"
  },
  "language_info": {
   "codemirror_mode": {
    "name": "ipython",
    "version": 3
   },
   "file_extension": ".py",
   "mimetype": "text/x-python",
   "name": "python",
   "nbconvert_exporter": "python",
   "pygments_lexer": "ipython3",
   "version": "3.9.7"
  }
 },
 "nbformat": 4,
 "nbformat_minor": 5
}
